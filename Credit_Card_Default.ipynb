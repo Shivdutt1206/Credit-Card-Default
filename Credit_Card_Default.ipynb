{
  "nbformat": 4,
  "nbformat_minor": 0,
  "metadata": {
    "colab": {
      "name": "Credit Card Default",
      "provenance": []
    },
    "kernelspec": {
      "name": "python3",
      "display_name": "Python 3"
    },
    "language_info": {
      "name": "python"
    }
  },
  "cells": [
    {
      "cell_type": "code",
      "metadata": {
        "id": "OHYcgDKLRiyK"
      },
      "source": [
        "# Last amended: 2nd August, 2021\n",
        "# Myfolder: C:\\Users\\Administrator\\OneDrive\\Documents\\talkingdata\n",
        "# Ref: https://www.kaggle.com/nanomathias/feature-engineering-importance-testing\n",
        "#      https://www.kaggle.com/nuhsikander/lgbm-new-features-corrected\n",
        "#      https://github.com/harnalashok/h2o\n",
        "#\n",
        "# Data source: https://www.kaggle.com/c/talkingdata-adtracking-fraud-detection\n",
        "# Objectives:\n",
        "#           i)    Categorical feature engineering\n",
        "#                 using aggregation"
      ],
      "execution_count": null,
      "outputs": []
    },
    {
      "cell_type": "markdown",
      "metadata": {
        "id": "pwkIFkVSSRxK"
      },
      "source": [
        "t is important that credit card companies are able to recognize fraudulent credit card transactions so that customers are not charged for items that they did not purchase.\n",
        "\n",
        "Content\n",
        "\n",
        "The datasets contains transactions made by credit cards in September 2013 by European cardholders.\n",
        "This dataset presents transactions that occurred in two days, where we have 492 frauds out of 284,807 transactions. The dataset is highly unbalanced, the positive class (frauds) account for 0.172% of all transactions.\n",
        "\n",
        "It contains only numerical input variables which are the result of a PCA transformation. Unfortunately, due to confidentiality issues, we cannot provide the original features and more background information about the data. Features V1, V2, … V28 are the principal components obtained with PCA, the only features which have not been transformed with PCA are 'Time' and 'Amount'. Feature 'Time' contains the seconds elapsed between each transaction and the first transaction in the dataset. The feature 'Amount' is the transaction Amount, this feature can be used for example-dependant cost-senstive learning. Feature 'Class' is the response variable and it takes value 1 in case of fraud and 0 otherwise.\n",
        "\n",
        "Please use the any one of the modeling and hyperparameter tuning techniques  to build predictive model."
      ]
    },
    {
      "cell_type": "code",
      "metadata": {
        "colab": {
          "base_uri": "https://localhost:8080/"
        },
        "id": "2TbPx0okSUZH",
        "outputId": "de92f19a-2e40-4a6f-f79d-5465527dbf1f"
      },
      "source": [
        "# Mount your google drive \n",
        "from google.colab import drive\n",
        "drive.mount('/content/drive', force_remount=True)"
      ],
      "execution_count": 99,
      "outputs": [
        {
          "output_type": "stream",
          "text": [
            "Mounted at /content/drive\n"
          ],
          "name": "stdout"
        }
      ]
    },
    {
      "cell_type": "code",
      "metadata": {
        "id": "sGw-RIC4TCPl"
      },
      "source": [
        "# 1.1 Call libraries\n",
        "# %reset -f\n",
        "import numpy as np\n",
        "import pandas as pd\n",
        "import matplotlib.pyplot as plt\n",
        "import random, gc\n",
        "import os,time"
      ],
      "execution_count": 27,
      "outputs": []
    },
    {
      "cell_type": "code",
      "metadata": {
        "id": "td85sYBncRh5"
      },
      "source": [
        "# 1.0 Reset memory\n",
        "#%reset -f\n",
        "# 1.1 Call libraries\n",
        "\n",
        "## A. Data manipulation\n",
        "import numpy as np\n",
        "import pandas as pd\n",
        "\n",
        "# 1.2 for data splitting\n",
        "from sklearn.model_selection import train_test_split\n",
        "\n",
        "## B. Transformers for predictors:\n",
        "\n",
        "# 1.3 Class for imputing missing values\n",
        "# https://scikit-learn.org/stable/modules/generated/sklearn.impute.SimpleImputer.html\n",
        "from sklearn.impute import SimpleImputer\n",
        "\n",
        "# 1.4 One hot encode categorical data--Convert to dummy\n",
        "# https://scikit-learn.org/stable/modules/generated/sklearn.preprocessing.OneHotEncoder.html\n",
        "from sklearn.preprocessing import OneHotEncoder as onehot\n",
        "\n",
        "# 1.5 Scale numeric data\n",
        "from sklearn.preprocessing import StandardScaler\n",
        "\n",
        "## C. Transformer for target:\n",
        "\n",
        "# 1.6 Label encode target column\n",
        "from sklearn.preprocessing import LabelEncoder\n",
        "\n",
        "\n",
        "## D. Composite Transformers:\n",
        "\n",
        "# 1.7 Class for applying multiple data transformation\n",
        "#     jobs parallely\n",
        "from sklearn.compose import ColumnTransformer\n",
        "\n",
        "# 1.8 Pipeline class: Class for applying multiple\n",
        "#     data transformations sequentially\n",
        "from sklearn.pipeline import Pipeline\n",
        "\n",
        "## E. Estimator\n",
        "\n",
        "# 1.9 Estimator\n",
        "# Ref: https://scikit-learn.org/stable/modules/generated/sklearn.tree.DecisionTreeClassifier.html\n",
        "# User guide: https://scikit-learn.org/stable/modules/tree.html\n",
        "from sklearn.tree import DecisionTreeClassifier \n",
        "\n",
        "# 1.10 To plot pipeline diagram\n",
        "from sklearn import set_config"
      ],
      "execution_count": 28,
      "outputs": []
    },
    {
      "cell_type": "code",
      "metadata": {
        "id": "IrSDlmGgTHi6"
      },
      "source": [
        "# 1.2 Display output from multiple commands\n",
        "from IPython.core.interactiveshell import InteractiveShell\n",
        "InteractiveShell.ast_node_interactivity = \"all\""
      ],
      "execution_count": 29,
      "outputs": []
    },
    {
      "cell_type": "code",
      "metadata": {
        "id": "Et1TOM2qudhh"
      },
      "source": [
        "# 2.0 Import warnings module\n",
        "import warnings\n",
        "# 2.1 Do not print warnings on screen\n",
        "warnings.filterwarnings(\"ignore\")"
      ],
      "execution_count": 30,
      "outputs": []
    },
    {
      "cell_type": "code",
      "metadata": {
        "colab": {
          "base_uri": "https://localhost:8080/"
        },
        "id": "CIcrJ-n0TMo3",
        "outputId": "338b49cb-ad43-47a4-e4ba-2ac274c74a9a"
      },
      "source": [
        "# 1.3 Change folder to where TalkingData is:\n",
        "#os.chdir(\"C:\\\\Users\\\\Administrator\\\\OneDrive\\\\Documents\\\\talkingdata\")\n",
        "path =  \"/content/drive/MyDrive/Credit Card Default/\"\n",
        "os.listdir(path)"
      ],
      "execution_count": 42,
      "outputs": [
        {
          "output_type": "execute_result",
          "data": {
            "text/plain": [
              "['creditcard.csv.zip']"
            ]
          },
          "metadata": {
            "tags": []
          },
          "execution_count": 42
        }
      ]
    },
    {
      "cell_type": "code",
      "metadata": {
        "id": "RHO9zMtvTdp4"
      },
      "source": [
        "dtypes = {\n",
        "        'Time' :'float64',\n",
        "        'V1'   :'float64',\n",
        "        'V2'   :'float64',\n",
        "        'V3' :'float64',\n",
        "        'V4' :'float64',\n",
        "        'V5' :'float64',\n",
        "        'V6' :'float64',\n",
        "        'V7' :'float64',\n",
        "        'V8' :'float64',\n",
        "        'V9' :'float64',\n",
        "        'V10' :'float64',\n",
        "        'V11' :'float64',\n",
        "        'V12' :'float64',\n",
        "        'V13' :'float64',\n",
        "        'V14' :'float64',\n",
        "        'V15' :'float64',\n",
        "        'V16' :'float64',\n",
        "        'V17' :'float64',\n",
        "        'V18' :'float64',\n",
        "        'V19' :'float64',\n",
        "        'V20' :'float64',\n",
        "        'V21' :'float64',\n",
        "        'V22' :'float64',\n",
        "        'V23' :'float64',\n",
        "        'V24' :'float64',\n",
        "        'V25' :'float64',\n",
        "        'V26' :'float64',\n",
        "        'V27' :'float64',\n",
        "        'V28' :'float64',\n",
        "        'Amount' :'float64',\n",
        "        'Class' :'float64',\n",
        "        }\n",
        "Creditcard_data = pd.read_csv(\n",
        "                     path + \"creditcard.csv.zip\",  # Not reading test.csv.zip\n",
        "                     header=0,  # First row is header-row\n",
        "                                # 'and' operator returns True if both values are True\n",
        "                                #  random.random() returns values between (0,1)\n",
        "                                #  No of rows skipped will be around 60% of total\n",
        "                      dtype=dtypes,\n",
        "                      # We read all columns. Here are the column-names\n",
        "                      #  in the sequence they occur in the train data\n",
        "                      usecols=['Time','V1','V2','V3', 'V4', 'V5', 'V6', 'V7','V8','V9','V10','V11','V12','V13','V14','V15','V16','V17','V18','V19','V20','V21','V22','V23','V24','V25','V26','V27','V28','Amount','Class']\n",
        "                    )\n",
        "                   "
      ],
      "execution_count": 111,
      "outputs": []
    },
    {
      "cell_type": "code",
      "metadata": {
        "id": "bTshBhnBi2ms",
        "outputId": "ced63be2-0699-47df-b538-4a297c10f066",
        "colab": {
          "base_uri": "https://localhost:8080/",
          "height": 279
        }
      },
      "source": [
        "Creditcard_data.type"
      ],
      "execution_count": 112,
      "outputs": [
        {
          "output_type": "error",
          "ename": "AttributeError",
          "evalue": "ignored",
          "traceback": [
            "\u001b[0;31m---------------------------------------------------------------------------\u001b[0m",
            "\u001b[0;31mAttributeError\u001b[0m                            Traceback (most recent call last)",
            "\u001b[0;32m<ipython-input-112-5181e3340b47>\u001b[0m in \u001b[0;36m<module>\u001b[0;34m()\u001b[0m\n\u001b[0;32m----> 1\u001b[0;31m \u001b[0mCreditcard_data\u001b[0m\u001b[0;34m.\u001b[0m\u001b[0mtype\u001b[0m\u001b[0;34m\u001b[0m\u001b[0;34m\u001b[0m\u001b[0m\n\u001b[0m",
            "\u001b[0;32m/usr/local/lib/python3.7/dist-packages/pandas/core/generic.py\u001b[0m in \u001b[0;36m__getattr__\u001b[0;34m(self, name)\u001b[0m\n\u001b[1;32m   5139\u001b[0m             \u001b[0;32mif\u001b[0m \u001b[0mself\u001b[0m\u001b[0;34m.\u001b[0m\u001b[0m_info_axis\u001b[0m\u001b[0;34m.\u001b[0m\u001b[0m_can_hold_identifiers_and_holds_name\u001b[0m\u001b[0;34m(\u001b[0m\u001b[0mname\u001b[0m\u001b[0;34m)\u001b[0m\u001b[0;34m:\u001b[0m\u001b[0;34m\u001b[0m\u001b[0;34m\u001b[0m\u001b[0m\n\u001b[1;32m   5140\u001b[0m                 \u001b[0;32mreturn\u001b[0m \u001b[0mself\u001b[0m\u001b[0;34m[\u001b[0m\u001b[0mname\u001b[0m\u001b[0;34m]\u001b[0m\u001b[0;34m\u001b[0m\u001b[0;34m\u001b[0m\u001b[0m\n\u001b[0;32m-> 5141\u001b[0;31m             \u001b[0;32mreturn\u001b[0m \u001b[0mobject\u001b[0m\u001b[0;34m.\u001b[0m\u001b[0m__getattribute__\u001b[0m\u001b[0;34m(\u001b[0m\u001b[0mself\u001b[0m\u001b[0;34m,\u001b[0m \u001b[0mname\u001b[0m\u001b[0;34m)\u001b[0m\u001b[0;34m\u001b[0m\u001b[0;34m\u001b[0m\u001b[0m\n\u001b[0m\u001b[1;32m   5142\u001b[0m \u001b[0;34m\u001b[0m\u001b[0m\n\u001b[1;32m   5143\u001b[0m     \u001b[0;32mdef\u001b[0m \u001b[0m__setattr__\u001b[0m\u001b[0;34m(\u001b[0m\u001b[0mself\u001b[0m\u001b[0;34m,\u001b[0m \u001b[0mname\u001b[0m\u001b[0;34m:\u001b[0m \u001b[0mstr\u001b[0m\u001b[0;34m,\u001b[0m \u001b[0mvalue\u001b[0m\u001b[0;34m)\u001b[0m \u001b[0;34m->\u001b[0m \u001b[0;32mNone\u001b[0m\u001b[0;34m:\u001b[0m\u001b[0;34m\u001b[0m\u001b[0;34m\u001b[0m\u001b[0m\n",
            "\u001b[0;31mAttributeError\u001b[0m: 'DataFrame' object has no attribute 'type'"
          ]
        }
      ]
    },
    {
      "cell_type": "code",
      "metadata": {
        "colab": {
          "base_uri": "https://localhost:8080/",
          "height": 223
        },
        "id": "-UwgN5n8YexO",
        "outputId": "f9a40d36-c006-4496-8ed0-a2910f3c17d7"
      },
      "source": [
        "Creditcard_data.head(5)"
      ],
      "execution_count": 113,
      "outputs": [
        {
          "output_type": "execute_result",
          "data": {
            "text/html": [
              "<div>\n",
              "<style scoped>\n",
              "    .dataframe tbody tr th:only-of-type {\n",
              "        vertical-align: middle;\n",
              "    }\n",
              "\n",
              "    .dataframe tbody tr th {\n",
              "        vertical-align: top;\n",
              "    }\n",
              "\n",
              "    .dataframe thead th {\n",
              "        text-align: right;\n",
              "    }\n",
              "</style>\n",
              "<table border=\"1\" class=\"dataframe\">\n",
              "  <thead>\n",
              "    <tr style=\"text-align: right;\">\n",
              "      <th></th>\n",
              "      <th>Time</th>\n",
              "      <th>V1</th>\n",
              "      <th>V2</th>\n",
              "      <th>V3</th>\n",
              "      <th>V4</th>\n",
              "      <th>V5</th>\n",
              "      <th>V6</th>\n",
              "      <th>V7</th>\n",
              "      <th>V8</th>\n",
              "      <th>V9</th>\n",
              "      <th>V10</th>\n",
              "      <th>V11</th>\n",
              "      <th>V12</th>\n",
              "      <th>V13</th>\n",
              "      <th>V14</th>\n",
              "      <th>V15</th>\n",
              "      <th>V16</th>\n",
              "      <th>V17</th>\n",
              "      <th>V18</th>\n",
              "      <th>V19</th>\n",
              "      <th>V20</th>\n",
              "      <th>V21</th>\n",
              "      <th>V22</th>\n",
              "      <th>V23</th>\n",
              "      <th>V24</th>\n",
              "      <th>V25</th>\n",
              "      <th>V26</th>\n",
              "      <th>V27</th>\n",
              "      <th>V28</th>\n",
              "      <th>Amount</th>\n",
              "      <th>Class</th>\n",
              "    </tr>\n",
              "  </thead>\n",
              "  <tbody>\n",
              "    <tr>\n",
              "      <th>0</th>\n",
              "      <td>0.0</td>\n",
              "      <td>-1.359807</td>\n",
              "      <td>-0.072781</td>\n",
              "      <td>2.536347</td>\n",
              "      <td>1.378155</td>\n",
              "      <td>-0.338321</td>\n",
              "      <td>0.462388</td>\n",
              "      <td>0.239599</td>\n",
              "      <td>0.098698</td>\n",
              "      <td>0.363787</td>\n",
              "      <td>0.090794</td>\n",
              "      <td>-0.551600</td>\n",
              "      <td>-0.617801</td>\n",
              "      <td>-0.991390</td>\n",
              "      <td>-0.311169</td>\n",
              "      <td>1.468177</td>\n",
              "      <td>-0.470401</td>\n",
              "      <td>0.207971</td>\n",
              "      <td>0.025791</td>\n",
              "      <td>0.403993</td>\n",
              "      <td>0.251412</td>\n",
              "      <td>-0.018307</td>\n",
              "      <td>0.277838</td>\n",
              "      <td>-0.110474</td>\n",
              "      <td>0.066928</td>\n",
              "      <td>0.128539</td>\n",
              "      <td>-0.189115</td>\n",
              "      <td>0.133558</td>\n",
              "      <td>-0.021053</td>\n",
              "      <td>149.62</td>\n",
              "      <td>0.0</td>\n",
              "    </tr>\n",
              "    <tr>\n",
              "      <th>1</th>\n",
              "      <td>0.0</td>\n",
              "      <td>1.191857</td>\n",
              "      <td>0.266151</td>\n",
              "      <td>0.166480</td>\n",
              "      <td>0.448154</td>\n",
              "      <td>0.060018</td>\n",
              "      <td>-0.082361</td>\n",
              "      <td>-0.078803</td>\n",
              "      <td>0.085102</td>\n",
              "      <td>-0.255425</td>\n",
              "      <td>-0.166974</td>\n",
              "      <td>1.612727</td>\n",
              "      <td>1.065235</td>\n",
              "      <td>0.489095</td>\n",
              "      <td>-0.143772</td>\n",
              "      <td>0.635558</td>\n",
              "      <td>0.463917</td>\n",
              "      <td>-0.114805</td>\n",
              "      <td>-0.183361</td>\n",
              "      <td>-0.145783</td>\n",
              "      <td>-0.069083</td>\n",
              "      <td>-0.225775</td>\n",
              "      <td>-0.638672</td>\n",
              "      <td>0.101288</td>\n",
              "      <td>-0.339846</td>\n",
              "      <td>0.167170</td>\n",
              "      <td>0.125895</td>\n",
              "      <td>-0.008983</td>\n",
              "      <td>0.014724</td>\n",
              "      <td>2.69</td>\n",
              "      <td>0.0</td>\n",
              "    </tr>\n",
              "    <tr>\n",
              "      <th>2</th>\n",
              "      <td>1.0</td>\n",
              "      <td>-1.358354</td>\n",
              "      <td>-1.340163</td>\n",
              "      <td>1.773209</td>\n",
              "      <td>0.379780</td>\n",
              "      <td>-0.503198</td>\n",
              "      <td>1.800499</td>\n",
              "      <td>0.791461</td>\n",
              "      <td>0.247676</td>\n",
              "      <td>-1.514654</td>\n",
              "      <td>0.207643</td>\n",
              "      <td>0.624501</td>\n",
              "      <td>0.066084</td>\n",
              "      <td>0.717293</td>\n",
              "      <td>-0.165946</td>\n",
              "      <td>2.345865</td>\n",
              "      <td>-2.890083</td>\n",
              "      <td>1.109969</td>\n",
              "      <td>-0.121359</td>\n",
              "      <td>-2.261857</td>\n",
              "      <td>0.524980</td>\n",
              "      <td>0.247998</td>\n",
              "      <td>0.771679</td>\n",
              "      <td>0.909412</td>\n",
              "      <td>-0.689281</td>\n",
              "      <td>-0.327642</td>\n",
              "      <td>-0.139097</td>\n",
              "      <td>-0.055353</td>\n",
              "      <td>-0.059752</td>\n",
              "      <td>378.66</td>\n",
              "      <td>0.0</td>\n",
              "    </tr>\n",
              "    <tr>\n",
              "      <th>3</th>\n",
              "      <td>1.0</td>\n",
              "      <td>-0.966272</td>\n",
              "      <td>-0.185226</td>\n",
              "      <td>1.792993</td>\n",
              "      <td>-0.863291</td>\n",
              "      <td>-0.010309</td>\n",
              "      <td>1.247203</td>\n",
              "      <td>0.237609</td>\n",
              "      <td>0.377436</td>\n",
              "      <td>-1.387024</td>\n",
              "      <td>-0.054952</td>\n",
              "      <td>-0.226487</td>\n",
              "      <td>0.178228</td>\n",
              "      <td>0.507757</td>\n",
              "      <td>-0.287924</td>\n",
              "      <td>-0.631418</td>\n",
              "      <td>-1.059647</td>\n",
              "      <td>-0.684093</td>\n",
              "      <td>1.965775</td>\n",
              "      <td>-1.232622</td>\n",
              "      <td>-0.208038</td>\n",
              "      <td>-0.108300</td>\n",
              "      <td>0.005274</td>\n",
              "      <td>-0.190321</td>\n",
              "      <td>-1.175575</td>\n",
              "      <td>0.647376</td>\n",
              "      <td>-0.221929</td>\n",
              "      <td>0.062723</td>\n",
              "      <td>0.061458</td>\n",
              "      <td>123.50</td>\n",
              "      <td>0.0</td>\n",
              "    </tr>\n",
              "    <tr>\n",
              "      <th>4</th>\n",
              "      <td>2.0</td>\n",
              "      <td>-1.158233</td>\n",
              "      <td>0.877737</td>\n",
              "      <td>1.548718</td>\n",
              "      <td>0.403034</td>\n",
              "      <td>-0.407193</td>\n",
              "      <td>0.095921</td>\n",
              "      <td>0.592941</td>\n",
              "      <td>-0.270533</td>\n",
              "      <td>0.817739</td>\n",
              "      <td>0.753074</td>\n",
              "      <td>-0.822843</td>\n",
              "      <td>0.538196</td>\n",
              "      <td>1.345852</td>\n",
              "      <td>-1.119670</td>\n",
              "      <td>0.175121</td>\n",
              "      <td>-0.451449</td>\n",
              "      <td>-0.237033</td>\n",
              "      <td>-0.038195</td>\n",
              "      <td>0.803487</td>\n",
              "      <td>0.408542</td>\n",
              "      <td>-0.009431</td>\n",
              "      <td>0.798278</td>\n",
              "      <td>-0.137458</td>\n",
              "      <td>0.141267</td>\n",
              "      <td>-0.206010</td>\n",
              "      <td>0.502292</td>\n",
              "      <td>0.219422</td>\n",
              "      <td>0.215153</td>\n",
              "      <td>69.99</td>\n",
              "      <td>0.0</td>\n",
              "    </tr>\n",
              "  </tbody>\n",
              "</table>\n",
              "</div>"
            ],
            "text/plain": [
              "   Time        V1        V2        V3  ...       V27       V28  Amount  Class\n",
              "0   0.0 -1.359807 -0.072781  2.536347  ...  0.133558 -0.021053  149.62    0.0\n",
              "1   0.0  1.191857  0.266151  0.166480  ... -0.008983  0.014724    2.69    0.0\n",
              "2   1.0 -1.358354 -1.340163  1.773209  ... -0.055353 -0.059752  378.66    0.0\n",
              "3   1.0 -0.966272 -0.185226  1.792993  ...  0.062723  0.061458  123.50    0.0\n",
              "4   2.0 -1.158233  0.877737  1.548718  ...  0.219422  0.215153   69.99    0.0\n",
              "\n",
              "[5 rows x 31 columns]"
            ]
          },
          "metadata": {
            "tags": []
          },
          "execution_count": 113
        }
      ]
    },
    {
      "cell_type": "code",
      "metadata": {
        "colab": {
          "base_uri": "https://localhost:8080/"
        },
        "id": "ggG-NQ2mai4N",
        "outputId": "fdb70100-e424-4583-9aec-f3cf2342809a"
      },
      "source": [
        "y=Creditcard_data.pop('Class'),\n",
        "y[:3]\n",
        "X=Creditcard_data,\n"
      ],
      "execution_count": 114,
      "outputs": [
        {
          "output_type": "execute_result",
          "data": {
            "text/plain": [
              "(0         0.0\n",
              " 1         0.0\n",
              " 2         0.0\n",
              " 3         0.0\n",
              " 4         0.0\n",
              "          ... \n",
              " 284802    0.0\n",
              " 284803    0.0\n",
              " 284804    0.0\n",
              " 284805    0.0\n",
              " 284806    0.0\n",
              " Name: Class, Length: 284807, dtype: float64,)"
            ]
          },
          "metadata": {
            "tags": []
          },
          "execution_count": 114
        }
      ]
    },
    {
      "cell_type": "code",
      "metadata": {
        "id": "hOJGavVkJSyM"
      },
      "source": [
        ""
      ],
      "execution_count": null,
      "outputs": []
    },
    {
      "cell_type": "code",
      "metadata": {
        "colab": {
          "base_uri": "https://localhost:8080/"
        },
        "id": "xDhl5kVxJPEp",
        "outputId": "f86984ee-db89-4abf-c90a-9605f2afd900"
      },
      "source": [
        "print(X),\n",
        "print(y),"
      ],
      "execution_count": 107,
      "outputs": [
        {
          "output_type": "stream",
          "text": [
            "(            Time        V1        V2  ...       V27       V28  Amount\n",
            "212772  138991.0 -0.145459  0.430788  ... -0.038694  0.075474   98.64\n",
            "135452   81260.0 -2.938168  1.233004  ...  0.321127 -0.173288   90.00\n",
            "168025  119031.0  1.935455 -0.767707  ...  0.058235 -0.041527   23.88\n",
            "154295  101091.0 -0.495445 -0.030701  ... -0.098285 -0.105182   15.00\n",
            "16831    28202.0 -2.114447 -2.627596  ... -0.291826 -0.031685  375.76\n",
            "...          ...       ...       ...  ...       ...       ...     ...\n",
            "206981  136470.0 -0.406907  0.385534  ... -0.121069 -0.097896   75.00\n",
            "183552  125853.0  1.917987 -0.710925  ... -0.057051 -0.091184   11.00\n",
            "14746    25978.0 -0.317579  0.060677  ...  0.163547  0.190453   45.87\n",
            "239192  149999.0  1.983333  0.066404  ... -0.027162 -0.075199   21.49\n",
            "115659   73959.0  0.482968  1.814470  ...  0.122343 -0.067833    1.99\n",
            "\n",
            "[284807 rows x 30 columns],)\n"
          ],
          "name": "stdout"
        },
        {
          "output_type": "execute_result",
          "data": {
            "text/plain": [
              "(None,)"
            ]
          },
          "metadata": {
            "tags": []
          },
          "execution_count": 107
        },
        {
          "output_type": "stream",
          "text": [
            "(212772    0.0\n",
            "135452    0.0\n",
            "168025    0.0\n",
            "154295    0.0\n",
            "16831     0.0\n",
            "         ... \n",
            "206981    0.0\n",
            "183552    0.0\n",
            "14746     0.0\n",
            "239192    0.0\n",
            "115659    0.0\n",
            "Name: Class, Length: 284807, dtype: float64,)\n"
          ],
          "name": "stdout"
        },
        {
          "output_type": "execute_result",
          "data": {
            "text/plain": [
              "(None,)"
            ]
          },
          "metadata": {
            "tags": []
          },
          "execution_count": 107
        }
      ]
    },
    {
      "cell_type": "code",
      "metadata": {
        "colab": {
          "base_uri": "https://localhost:8080/"
        },
        "id": "9ul4DGkRC55_",
        "outputId": "fa11629d-d048-4235-93a0-589a1326b661"
      },
      "source": [
        "X= np.asarray(X)\n",
        "X= X.reshape(-1,30)\n",
        "X.shape\n",
        "y= np.asarray(y)\n",
        "y=y.reshape(284807)\n",
        "y.shape\n"
      ],
      "execution_count": 126,
      "outputs": [
        {
          "output_type": "execute_result",
          "data": {
            "text/plain": [
              "(284807, 30)"
            ]
          },
          "metadata": {
            "tags": []
          },
          "execution_count": 126
        },
        {
          "output_type": "execute_result",
          "data": {
            "text/plain": [
              "(284807,)"
            ]
          },
          "metadata": {
            "tags": []
          },
          "execution_count": 126
        }
      ]
    },
    {
      "cell_type": "code",
      "metadata": {
        "id": "UDik8Skwk0vT"
      },
      "source": [
        "X_train,X_test, y_train, y_test = train_test_split(\n",
        "                                                    X, \n",
        "                                                    y,\n",
        "                                                    test_size = 0.2 \n",
        "                                                    )"
      ],
      "execution_count": 127,
      "outputs": []
    },
    {
      "cell_type": "code",
      "metadata": {
        "id": "unLG6bIqq-x9",
        "outputId": "ada0ec19-3921-4023-a32f-c809eca56b7e",
        "colab": {
          "base_uri": "https://localhost:8080/",
          "height": 89
        }
      },
      "source": [
        "f\"X_train shape: {X_train.shape}\" \n",
        "print()\n",
        "f\"X_test.shape : {X_test.shape}\"  \n",
        "print()\n",
        "f\"y_train shape: {y_train.shape}\" \n",
        "print()\n",
        "f\"y_test shape : {y_test.shape}\" "
      ],
      "execution_count": 128,
      "outputs": [
        {
          "output_type": "execute_result",
          "data": {
            "application/vnd.google.colaboratory.intrinsic+json": {
              "type": "string"
            },
            "text/plain": [
              "'X_train shape: (227845, 30)'"
            ]
          },
          "metadata": {
            "tags": []
          },
          "execution_count": 128
        },
        {
          "output_type": "stream",
          "text": [
            "\n"
          ],
          "name": "stdout"
        },
        {
          "output_type": "execute_result",
          "data": {
            "application/vnd.google.colaboratory.intrinsic+json": {
              "type": "string"
            },
            "text/plain": [
              "'X_test.shape : (56962, 30)'"
            ]
          },
          "metadata": {
            "tags": []
          },
          "execution_count": 128
        },
        {
          "output_type": "stream",
          "text": [
            "\n"
          ],
          "name": "stdout"
        },
        {
          "output_type": "execute_result",
          "data": {
            "application/vnd.google.colaboratory.intrinsic+json": {
              "type": "string"
            },
            "text/plain": [
              "'y_train shape: (227845,)'"
            ]
          },
          "metadata": {
            "tags": []
          },
          "execution_count": 128
        },
        {
          "output_type": "stream",
          "text": [
            "\n"
          ],
          "name": "stdout"
        },
        {
          "output_type": "execute_result",
          "data": {
            "application/vnd.google.colaboratory.intrinsic+json": {
              "type": "string"
            },
            "text/plain": [
              "'y_test shape : (56962,)'"
            ]
          },
          "metadata": {
            "tags": []
          },
          "execution_count": 128
        }
      ]
    },
    {
      "cell_type": "code",
      "metadata": {
        "id": "R_rGnm0PrX3q"
      },
      "source": [
        "X_train_c=X_train.copy()\n",
        "X_test_c=X_test.copy()\n",
        "y_test_c=y_test.copy()\n",
        "y_train_c=y_train.copy()"
      ],
      "execution_count": 129,
      "outputs": []
    },
    {
      "cell_type": "code",
      "metadata": {
        "id": "83grNTv_r34z",
        "outputId": "1e68d973-852b-4b4e-cc1a-142f2669e1ea",
        "colab": {
          "base_uri": "https://localhost:8080/"
        }
      },
      "source": [
        "ss = StandardScaler()\n",
        "Xtr= ss.fit_transform(X_train_c)\n",
        "Xtr.shape"
      ],
      "execution_count": 132,
      "outputs": [
        {
          "output_type": "execute_result",
          "data": {
            "text/plain": [
              "(227845, 30)"
            ]
          },
          "metadata": {
            "tags": []
          },
          "execution_count": 132
        }
      ]
    },
    {
      "cell_type": "code",
      "metadata": {
        "id": "59wpXdczuh1A",
        "outputId": "71c3cf24-08a1-4993-f62a-2201231c70c1",
        "colab": {
          "base_uri": "https://localhost:8080/"
        }
      },
      "source": [
        "from sklearn.tree import DecisionTreeClassifier \n",
        "dt = DecisionTreeClassifier()\n",
        "dt.fit(Xtr,y_train)"
      ],
      "execution_count": 133,
      "outputs": [
        {
          "output_type": "execute_result",
          "data": {
            "text/plain": [
              "DecisionTreeClassifier(ccp_alpha=0.0, class_weight=None, criterion='gini',\n",
              "                       max_depth=None, max_features=None, max_leaf_nodes=None,\n",
              "                       min_impurity_decrease=0.0, min_impurity_split=None,\n",
              "                       min_samples_leaf=1, min_samples_split=2,\n",
              "                       min_weight_fraction_leaf=0.0, presort='deprecated',\n",
              "                       random_state=None, splitter='best')"
            ]
          },
          "metadata": {
            "tags": []
          },
          "execution_count": 133
        }
      ]
    },
    {
      "cell_type": "code",
      "metadata": {
        "id": "lE3MUlBNvkQa",
        "outputId": "4c62b277-1d55-446e-dcb4-7ba4fd7b8d51",
        "colab": {
          "base_uri": "https://localhost:8080/"
        }
      },
      "source": [
        "from sklearn.metrics import accuracy_score\n",
        "y_pred= dt.predict(X_test_c)\n",
        "print(accuracy_score( y_test, y_pred))\n",
        "print(np.mean(y_test==y_pred))"
      ],
      "execution_count": 135,
      "outputs": [
        {
          "output_type": "stream",
          "text": [
            "0.9841648818510585\n",
            "0.9841648818510585\n"
          ],
          "name": "stdout"
        }
      ]
    },
    {
      "cell_type": "markdown",
      "metadata": {
        "id": "np7f_ZxiYeKb"
      },
      "source": [
        ""
      ]
    }
  ]
}